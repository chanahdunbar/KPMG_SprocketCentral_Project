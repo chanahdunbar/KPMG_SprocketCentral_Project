{
 "cells": [
  {
   "cell_type": "markdown",
   "id": "aa8434a1",
   "metadata": {},
   "source": [
    "# Data Quality Evaluation"
   ]
  },
  {
   "cell_type": "code",
   "execution_count": 15,
   "id": "ac9a8021",
   "metadata": {},
   "outputs": [],
   "source": [
    "# Import libraries\n",
    "import pandas as pd\n"
   ]
  },
  {
   "cell_type": "code",
   "execution_count": 16,
   "id": "39a955ea",
   "metadata": {},
   "outputs": [],
   "source": [
    "# read in file\n",
    "#read_file = pd.read_excel(\"Resources/KPMG_VI_New_raw_data_update_final.xlsx\")\n",
    "#df = pd.DataFrame(read_file)\n",
    "\n",
    "xls = pd.ExcelFile('../Resources/KPMG_VI_New_raw_data_update_final.xlsx')\n",
    "transactions_df = pd.read_excel(xls, 'Transactions')\n",
    "demographic_df = pd.read_excel(xls, 'CustomerDemographic')\n",
    "address_df = pd.read_excel(xls, 'CustomerAddress')\n",
    "\n",
    "# identifying the header row\n",
    "new_header = transactions_df.iloc[0]\n",
    "transactions_df = transactions_df[1:]\n",
    "transactions_df.columns = new_header\n",
    "transactions_df = transactions_df.reset_index(drop=True)\n",
    "\n",
    "new_header = demographic_df.iloc[0]\n",
    "demographic_df = demographic_df[1:]\n",
    "demographic_df.columns = new_header\n",
    "demographic_df = demographic_df.reset_index(drop=True)\n",
    "\n",
    "new_header = address_df.iloc[0]\n",
    "address_df = address_df[1:]\n",
    "address_df.columns = new_header\n",
    "address_df = address_df.reset_index(drop=True)\n"
   ]
  },
  {
   "cell_type": "markdown",
   "id": "de4829b5",
   "metadata": {},
   "source": [
    "## Transportation"
   ]
  },
  {
   "cell_type": "code",
   "execution_count": 17,
   "id": "ef6387af",
   "metadata": {},
   "outputs": [
    {
     "data": {
      "text/html": [
       "<div>\n",
       "<style scoped>\n",
       "    .dataframe tbody tr th:only-of-type {\n",
       "        vertical-align: middle;\n",
       "    }\n",
       "\n",
       "    .dataframe tbody tr th {\n",
       "        vertical-align: top;\n",
       "    }\n",
       "\n",
       "    .dataframe thead th {\n",
       "        text-align: right;\n",
       "    }\n",
       "</style>\n",
       "<table border=\"1\" class=\"dataframe\">\n",
       "  <thead>\n",
       "    <tr style=\"text-align: right;\">\n",
       "      <th></th>\n",
       "      <th>transaction_id</th>\n",
       "      <th>product_id</th>\n",
       "      <th>customer_id</th>\n",
       "      <th>transaction_date</th>\n",
       "      <th>online_order</th>\n",
       "      <th>order_status</th>\n",
       "      <th>brand</th>\n",
       "      <th>product_line</th>\n",
       "      <th>product_class</th>\n",
       "      <th>product_size</th>\n",
       "      <th>list_price</th>\n",
       "      <th>standard_cost</th>\n",
       "      <th>product_first_sold_date</th>\n",
       "    </tr>\n",
       "  </thead>\n",
       "  <tbody>\n",
       "    <tr>\n",
       "      <th>0</th>\n",
       "      <td>1</td>\n",
       "      <td>2</td>\n",
       "      <td>2950</td>\n",
       "      <td>2017-02-25 00:00:00</td>\n",
       "      <td>False</td>\n",
       "      <td>Approved</td>\n",
       "      <td>Solex</td>\n",
       "      <td>Standard</td>\n",
       "      <td>medium</td>\n",
       "      <td>medium</td>\n",
       "      <td>71.49</td>\n",
       "      <td>53.62</td>\n",
       "      <td>41245</td>\n",
       "    </tr>\n",
       "    <tr>\n",
       "      <th>1</th>\n",
       "      <td>2</td>\n",
       "      <td>3</td>\n",
       "      <td>3120</td>\n",
       "      <td>2017-05-21 00:00:00</td>\n",
       "      <td>True</td>\n",
       "      <td>Approved</td>\n",
       "      <td>Trek Bicycles</td>\n",
       "      <td>Standard</td>\n",
       "      <td>medium</td>\n",
       "      <td>large</td>\n",
       "      <td>2091.47</td>\n",
       "      <td>388.92</td>\n",
       "      <td>41701</td>\n",
       "    </tr>\n",
       "    <tr>\n",
       "      <th>2</th>\n",
       "      <td>3</td>\n",
       "      <td>37</td>\n",
       "      <td>402</td>\n",
       "      <td>2017-10-16 00:00:00</td>\n",
       "      <td>False</td>\n",
       "      <td>Approved</td>\n",
       "      <td>OHM Cycles</td>\n",
       "      <td>Standard</td>\n",
       "      <td>low</td>\n",
       "      <td>medium</td>\n",
       "      <td>1793.43</td>\n",
       "      <td>248.82</td>\n",
       "      <td>36361</td>\n",
       "    </tr>\n",
       "    <tr>\n",
       "      <th>3</th>\n",
       "      <td>4</td>\n",
       "      <td>88</td>\n",
       "      <td>3135</td>\n",
       "      <td>2017-08-31 00:00:00</td>\n",
       "      <td>False</td>\n",
       "      <td>Approved</td>\n",
       "      <td>Norco Bicycles</td>\n",
       "      <td>Standard</td>\n",
       "      <td>medium</td>\n",
       "      <td>medium</td>\n",
       "      <td>1198.46</td>\n",
       "      <td>381.1</td>\n",
       "      <td>36145</td>\n",
       "    </tr>\n",
       "    <tr>\n",
       "      <th>4</th>\n",
       "      <td>5</td>\n",
       "      <td>78</td>\n",
       "      <td>787</td>\n",
       "      <td>2017-10-01 00:00:00</td>\n",
       "      <td>True</td>\n",
       "      <td>Approved</td>\n",
       "      <td>Giant Bicycles</td>\n",
       "      <td>Standard</td>\n",
       "      <td>medium</td>\n",
       "      <td>large</td>\n",
       "      <td>1765.3</td>\n",
       "      <td>709.48</td>\n",
       "      <td>42226</td>\n",
       "    </tr>\n",
       "  </tbody>\n",
       "</table>\n",
       "</div>"
      ],
      "text/plain": [
       "0 transaction_id product_id customer_id     transaction_date online_order  \\\n",
       "0              1          2        2950  2017-02-25 00:00:00        False   \n",
       "1              2          3        3120  2017-05-21 00:00:00         True   \n",
       "2              3         37         402  2017-10-16 00:00:00        False   \n",
       "3              4         88        3135  2017-08-31 00:00:00        False   \n",
       "4              5         78         787  2017-10-01 00:00:00         True   \n",
       "\n",
       "0 order_status           brand product_line product_class product_size  \\\n",
       "0     Approved           Solex     Standard        medium       medium   \n",
       "1     Approved   Trek Bicycles     Standard        medium        large   \n",
       "2     Approved      OHM Cycles     Standard           low       medium   \n",
       "3     Approved  Norco Bicycles     Standard        medium       medium   \n",
       "4     Approved  Giant Bicycles     Standard        medium        large   \n",
       "\n",
       "0 list_price standard_cost product_first_sold_date  \n",
       "0      71.49         53.62                   41245  \n",
       "1    2091.47        388.92                   41701  \n",
       "2    1793.43        248.82                   36361  \n",
       "3    1198.46         381.1                   36145  \n",
       "4     1765.3        709.48                   42226  "
      ]
     },
     "execution_count": 17,
     "metadata": {},
     "output_type": "execute_result"
    }
   ],
   "source": [
    "# show data\n",
    "transactions_df.head()\n"
   ]
  },
  {
   "cell_type": "code",
   "execution_count": 18,
   "id": "ff47eacb",
   "metadata": {},
   "outputs": [
    {
     "data": {
      "text/plain": [
       "0\n",
       "transaction_id             object\n",
       "product_id                 object\n",
       "customer_id                object\n",
       "transaction_date           object\n",
       "online_order               object\n",
       "order_status               object\n",
       "brand                      object\n",
       "product_line               object\n",
       "product_class              object\n",
       "product_size               object\n",
       "list_price                 object\n",
       "standard_cost              object\n",
       "product_first_sold_date    object\n",
       "dtype: object"
      ]
     },
     "execution_count": 18,
     "metadata": {},
     "output_type": "execute_result"
    }
   ],
   "source": [
    "# correct values (accuracy)\n",
    "transactions_df.dtypes\n"
   ]
  },
  {
   "cell_type": "markdown",
   "id": "c6fd8ae8",
   "metadata": {},
   "source": [
    "##### Evaluation: Some data types should be converted from object to a different data type."
   ]
  },
  {
   "cell_type": "code",
   "execution_count": 19,
   "id": "16192420",
   "metadata": {},
   "outputs": [
    {
     "data": {
      "text/plain": [
       "0\n",
       "transaction_id             20000\n",
       "product_id                 20000\n",
       "customer_id                20000\n",
       "transaction_date           20000\n",
       "online_order               19640\n",
       "order_status               20000\n",
       "brand                      19803\n",
       "product_line               19803\n",
       "product_class              19803\n",
       "product_size               19803\n",
       "list_price                 20000\n",
       "standard_cost              19803\n",
       "product_first_sold_date    19803\n",
       "dtype: int64"
      ]
     },
     "execution_count": 19,
     "metadata": {},
     "output_type": "execute_result"
    }
   ],
   "source": [
    "# data fields with values (completeness)\n",
    "transactions_df.count()\n"
   ]
  },
  {
   "cell_type": "markdown",
   "id": "263a5a29",
   "metadata": {},
   "source": [
    "##### Evaluation: Some columns (online_order, brand, product_line, product_class, product_size, standard_cost, product_first_sold_date) are missing values."
   ]
  },
  {
   "cell_type": "code",
   "execution_count": 20,
   "id": "7e5c6e74",
   "metadata": {},
   "outputs": [
    {
     "data": {
      "text/html": [
       "<div>\n",
       "<style scoped>\n",
       "    .dataframe tbody tr th:only-of-type {\n",
       "        vertical-align: middle;\n",
       "    }\n",
       "\n",
       "    .dataframe tbody tr th {\n",
       "        vertical-align: top;\n",
       "    }\n",
       "\n",
       "    .dataframe thead th {\n",
       "        text-align: right;\n",
       "    }\n",
       "</style>\n",
       "<table border=\"1\" class=\"dataframe\">\n",
       "  <thead>\n",
       "    <tr style=\"text-align: right;\">\n",
       "      <th></th>\n",
       "      <th>transaction_id</th>\n",
       "      <th>product_id</th>\n",
       "      <th>customer_id</th>\n",
       "      <th>transaction_date</th>\n",
       "      <th>online_order</th>\n",
       "      <th>order_status</th>\n",
       "      <th>brand</th>\n",
       "      <th>product_line</th>\n",
       "      <th>product_class</th>\n",
       "      <th>product_size</th>\n",
       "      <th>list_price</th>\n",
       "      <th>standard_cost</th>\n",
       "      <th>product_first_sold_date</th>\n",
       "    </tr>\n",
       "  </thead>\n",
       "  <tbody>\n",
       "    <tr>\n",
       "      <th>1696</th>\n",
       "      <td>1697</td>\n",
       "      <td>56</td>\n",
       "      <td>2421</td>\n",
       "      <td>2017-12-30 00:00:00</td>\n",
       "      <td>True</td>\n",
       "      <td>Approved</td>\n",
       "      <td>OHM Cycles</td>\n",
       "      <td>Standard</td>\n",
       "      <td>medium</td>\n",
       "      <td>medium</td>\n",
       "      <td>183.86</td>\n",
       "      <td>137.9</td>\n",
       "      <td>33259</td>\n",
       "    </tr>\n",
       "    <tr>\n",
       "      <th>15269</th>\n",
       "      <td>15270</td>\n",
       "      <td>3</td>\n",
       "      <td>195</td>\n",
       "      <td>2017-12-30 00:00:00</td>\n",
       "      <td>False</td>\n",
       "      <td>Approved</td>\n",
       "      <td>Trek Bicycles</td>\n",
       "      <td>Standard</td>\n",
       "      <td>medium</td>\n",
       "      <td>large</td>\n",
       "      <td>2091.47</td>\n",
       "      <td>388.92</td>\n",
       "      <td>41167</td>\n",
       "    </tr>\n",
       "    <tr>\n",
       "      <th>4668</th>\n",
       "      <td>4669</td>\n",
       "      <td>29</td>\n",
       "      <td>1052</td>\n",
       "      <td>2017-12-30 00:00:00</td>\n",
       "      <td>False</td>\n",
       "      <td>Approved</td>\n",
       "      <td>WeareA2B</td>\n",
       "      <td>Standard</td>\n",
       "      <td>medium</td>\n",
       "      <td>medium</td>\n",
       "      <td>1065.03</td>\n",
       "      <td>230.09</td>\n",
       "      <td>36833</td>\n",
       "    </tr>\n",
       "    <tr>\n",
       "      <th>13574</th>\n",
       "      <td>13575</td>\n",
       "      <td>98</td>\n",
       "      <td>2396</td>\n",
       "      <td>2017-12-30 00:00:00</td>\n",
       "      <td>False</td>\n",
       "      <td>Approved</td>\n",
       "      <td>Trek Bicycles</td>\n",
       "      <td>Standard</td>\n",
       "      <td>high</td>\n",
       "      <td>medium</td>\n",
       "      <td>358.39</td>\n",
       "      <td>215.03</td>\n",
       "      <td>33364</td>\n",
       "    </tr>\n",
       "    <tr>\n",
       "      <th>3937</th>\n",
       "      <td>3938</td>\n",
       "      <td>95</td>\n",
       "      <td>993</td>\n",
       "      <td>2017-12-30 00:00:00</td>\n",
       "      <td>False</td>\n",
       "      <td>Approved</td>\n",
       "      <td>OHM Cycles</td>\n",
       "      <td>Touring</td>\n",
       "      <td>low</td>\n",
       "      <td>medium</td>\n",
       "      <td>1073.07</td>\n",
       "      <td>933.84</td>\n",
       "      <td>35455</td>\n",
       "    </tr>\n",
       "    <tr>\n",
       "      <th>...</th>\n",
       "      <td>...</td>\n",
       "      <td>...</td>\n",
       "      <td>...</td>\n",
       "      <td>...</td>\n",
       "      <td>...</td>\n",
       "      <td>...</td>\n",
       "      <td>...</td>\n",
       "      <td>...</td>\n",
       "      <td>...</td>\n",
       "      <td>...</td>\n",
       "      <td>...</td>\n",
       "      <td>...</td>\n",
       "      <td>...</td>\n",
       "    </tr>\n",
       "    <tr>\n",
       "      <th>16397</th>\n",
       "      <td>16398</td>\n",
       "      <td>43</td>\n",
       "      <td>2160</td>\n",
       "      <td>2017-01-01 00:00:00</td>\n",
       "      <td>True</td>\n",
       "      <td>Approved</td>\n",
       "      <td>Solex</td>\n",
       "      <td>Standard</td>\n",
       "      <td>medium</td>\n",
       "      <td>medium</td>\n",
       "      <td>1151.96</td>\n",
       "      <td>649.49</td>\n",
       "      <td>41009</td>\n",
       "    </tr>\n",
       "    <tr>\n",
       "      <th>15204</th>\n",
       "      <td>15205</td>\n",
       "      <td>87</td>\n",
       "      <td>123</td>\n",
       "      <td>2017-01-01 00:00:00</td>\n",
       "      <td>False</td>\n",
       "      <td>Approved</td>\n",
       "      <td>OHM Cycles</td>\n",
       "      <td>Standard</td>\n",
       "      <td>medium</td>\n",
       "      <td>medium</td>\n",
       "      <td>1636.9</td>\n",
       "      <td>44.71</td>\n",
       "      <td>40410</td>\n",
       "    </tr>\n",
       "    <tr>\n",
       "      <th>15137</th>\n",
       "      <td>15138</td>\n",
       "      <td>3</td>\n",
       "      <td>1022</td>\n",
       "      <td>2017-01-01 00:00:00</td>\n",
       "      <td>True</td>\n",
       "      <td>Approved</td>\n",
       "      <td>Trek Bicycles</td>\n",
       "      <td>Standard</td>\n",
       "      <td>medium</td>\n",
       "      <td>large</td>\n",
       "      <td>2091.47</td>\n",
       "      <td>388.92</td>\n",
       "      <td>36367</td>\n",
       "    </tr>\n",
       "    <tr>\n",
       "      <th>3459</th>\n",
       "      <td>3460</td>\n",
       "      <td>64</td>\n",
       "      <td>234</td>\n",
       "      <td>2017-01-01 00:00:00</td>\n",
       "      <td>True</td>\n",
       "      <td>Approved</td>\n",
       "      <td>Giant Bicycles</td>\n",
       "      <td>Standard</td>\n",
       "      <td>high</td>\n",
       "      <td>small</td>\n",
       "      <td>1977.36</td>\n",
       "      <td>1759.85</td>\n",
       "      <td>40779</td>\n",
       "    </tr>\n",
       "    <tr>\n",
       "      <th>13933</th>\n",
       "      <td>13934</td>\n",
       "      <td>94</td>\n",
       "      <td>824</td>\n",
       "      <td>2017-01-01 00:00:00</td>\n",
       "      <td>False</td>\n",
       "      <td>Approved</td>\n",
       "      <td>Giant Bicycles</td>\n",
       "      <td>Standard</td>\n",
       "      <td>medium</td>\n",
       "      <td>large</td>\n",
       "      <td>1635.3</td>\n",
       "      <td>993.66</td>\n",
       "      <td>38002</td>\n",
       "    </tr>\n",
       "  </tbody>\n",
       "</table>\n",
       "<p>20000 rows × 13 columns</p>\n",
       "</div>"
      ],
      "text/plain": [
       "0     transaction_id product_id customer_id     transaction_date online_order  \\\n",
       "1696            1697         56        2421  2017-12-30 00:00:00         True   \n",
       "15269          15270          3         195  2017-12-30 00:00:00        False   \n",
       "4668            4669         29        1052  2017-12-30 00:00:00        False   \n",
       "13574          13575         98        2396  2017-12-30 00:00:00        False   \n",
       "3937            3938         95         993  2017-12-30 00:00:00        False   \n",
       "...              ...        ...         ...                  ...          ...   \n",
       "16397          16398         43        2160  2017-01-01 00:00:00         True   \n",
       "15204          15205         87         123  2017-01-01 00:00:00        False   \n",
       "15137          15138          3        1022  2017-01-01 00:00:00         True   \n",
       "3459            3460         64         234  2017-01-01 00:00:00         True   \n",
       "13933          13934         94         824  2017-01-01 00:00:00        False   \n",
       "\n",
       "0     order_status           brand product_line product_class product_size  \\\n",
       "1696      Approved      OHM Cycles     Standard        medium       medium   \n",
       "15269     Approved   Trek Bicycles     Standard        medium        large   \n",
       "4668      Approved        WeareA2B     Standard        medium       medium   \n",
       "13574     Approved   Trek Bicycles     Standard          high       medium   \n",
       "3937      Approved      OHM Cycles      Touring           low       medium   \n",
       "...            ...             ...          ...           ...          ...   \n",
       "16397     Approved           Solex     Standard        medium       medium   \n",
       "15204     Approved      OHM Cycles     Standard        medium       medium   \n",
       "15137     Approved   Trek Bicycles     Standard        medium        large   \n",
       "3459      Approved  Giant Bicycles     Standard          high        small   \n",
       "13933     Approved  Giant Bicycles     Standard        medium        large   \n",
       "\n",
       "0     list_price standard_cost product_first_sold_date  \n",
       "1696      183.86         137.9                   33259  \n",
       "15269    2091.47        388.92                   41167  \n",
       "4668     1065.03        230.09                   36833  \n",
       "13574     358.39        215.03                   33364  \n",
       "3937     1073.07        933.84                   35455  \n",
       "...          ...           ...                     ...  \n",
       "16397    1151.96        649.49                   41009  \n",
       "15204     1636.9         44.71                   40410  \n",
       "15137    2091.47        388.92                   36367  \n",
       "3459     1977.36       1759.85                   40779  \n",
       "13933     1635.3        993.66                   38002  \n",
       "\n",
       "[20000 rows x 13 columns]"
      ]
     },
     "execution_count": 20,
     "metadata": {},
     "output_type": "execute_result"
    }
   ],
   "source": [
    "# values up to date (currency)\n",
    "# evaluation: transaction year is 2017\n",
    "\n",
    "transaction_date_df = transactions_df.sort_values(\"transaction_date\", ascending=False)\n",
    "transaction_date_df\n"
   ]
  },
  {
   "cell_type": "markdown",
   "id": "2c798d2a",
   "metadata": {},
   "source": [
    "##### Evaluation: Transaction year is 2017."
   ]
  },
  {
   "cell_type": "markdown",
   "id": "fd8f2d3b",
   "metadata": {},
   "source": [
    "## Demographic"
   ]
  },
  {
   "cell_type": "code",
   "execution_count": 21,
   "id": "7bca89f2",
   "metadata": {},
   "outputs": [
    {
     "data": {
      "text/html": [
       "<div>\n",
       "<style scoped>\n",
       "    .dataframe tbody tr th:only-of-type {\n",
       "        vertical-align: middle;\n",
       "    }\n",
       "\n",
       "    .dataframe tbody tr th {\n",
       "        vertical-align: top;\n",
       "    }\n",
       "\n",
       "    .dataframe thead th {\n",
       "        text-align: right;\n",
       "    }\n",
       "</style>\n",
       "<table border=\"1\" class=\"dataframe\">\n",
       "  <thead>\n",
       "    <tr style=\"text-align: right;\">\n",
       "      <th></th>\n",
       "      <th>customer_id</th>\n",
       "      <th>first_name</th>\n",
       "      <th>last_name</th>\n",
       "      <th>gender</th>\n",
       "      <th>past_3_years_bike_related_purchases</th>\n",
       "      <th>DOB</th>\n",
       "      <th>job_title</th>\n",
       "      <th>job_industry_category</th>\n",
       "      <th>wealth_segment</th>\n",
       "      <th>deceased_indicator</th>\n",
       "      <th>default</th>\n",
       "      <th>owns_car</th>\n",
       "      <th>tenure</th>\n",
       "    </tr>\n",
       "  </thead>\n",
       "  <tbody>\n",
       "    <tr>\n",
       "      <th>0</th>\n",
       "      <td>1</td>\n",
       "      <td>Laraine</td>\n",
       "      <td>Medendorp</td>\n",
       "      <td>F</td>\n",
       "      <td>93</td>\n",
       "      <td>1953-10-12 00:00:00</td>\n",
       "      <td>Executive Secretary</td>\n",
       "      <td>Health</td>\n",
       "      <td>Mass Customer</td>\n",
       "      <td>N</td>\n",
       "      <td>\"'</td>\n",
       "      <td>Yes</td>\n",
       "      <td>11</td>\n",
       "    </tr>\n",
       "    <tr>\n",
       "      <th>1</th>\n",
       "      <td>2</td>\n",
       "      <td>Eli</td>\n",
       "      <td>Bockman</td>\n",
       "      <td>Male</td>\n",
       "      <td>81</td>\n",
       "      <td>1980-12-16 00:00:00</td>\n",
       "      <td>Administrative Officer</td>\n",
       "      <td>Financial Services</td>\n",
       "      <td>Mass Customer</td>\n",
       "      <td>N</td>\n",
       "      <td>&lt;script&gt;alert('hi')&lt;/script&gt;</td>\n",
       "      <td>Yes</td>\n",
       "      <td>16</td>\n",
       "    </tr>\n",
       "    <tr>\n",
       "      <th>2</th>\n",
       "      <td>3</td>\n",
       "      <td>Arlin</td>\n",
       "      <td>Dearle</td>\n",
       "      <td>Male</td>\n",
       "      <td>61</td>\n",
       "      <td>1954-01-20 00:00:00</td>\n",
       "      <td>Recruiting Manager</td>\n",
       "      <td>Property</td>\n",
       "      <td>Mass Customer</td>\n",
       "      <td>N</td>\n",
       "      <td>2018-02-01 00:00:00</td>\n",
       "      <td>Yes</td>\n",
       "      <td>15</td>\n",
       "    </tr>\n",
       "    <tr>\n",
       "      <th>3</th>\n",
       "      <td>4</td>\n",
       "      <td>Talbot</td>\n",
       "      <td>NaN</td>\n",
       "      <td>Male</td>\n",
       "      <td>33</td>\n",
       "      <td>1961-10-03 00:00:00</td>\n",
       "      <td>NaN</td>\n",
       "      <td>IT</td>\n",
       "      <td>Mass Customer</td>\n",
       "      <td>N</td>\n",
       "      <td>() { _; } &gt;_[$($())] { touch /tmp/blns.shellsh...</td>\n",
       "      <td>No</td>\n",
       "      <td>7</td>\n",
       "    </tr>\n",
       "    <tr>\n",
       "      <th>4</th>\n",
       "      <td>5</td>\n",
       "      <td>Sheila-kathryn</td>\n",
       "      <td>Calton</td>\n",
       "      <td>Female</td>\n",
       "      <td>56</td>\n",
       "      <td>1977-05-13 00:00:00</td>\n",
       "      <td>Senior Editor</td>\n",
       "      <td>NaN</td>\n",
       "      <td>Affluent Customer</td>\n",
       "      <td>N</td>\n",
       "      <td>NIL</td>\n",
       "      <td>Yes</td>\n",
       "      <td>8</td>\n",
       "    </tr>\n",
       "  </tbody>\n",
       "</table>\n",
       "</div>"
      ],
      "text/plain": [
       "0 customer_id      first_name  last_name  gender  \\\n",
       "0           1         Laraine  Medendorp       F   \n",
       "1           2             Eli    Bockman    Male   \n",
       "2           3           Arlin     Dearle    Male   \n",
       "3           4          Talbot        NaN    Male   \n",
       "4           5  Sheila-kathryn     Calton  Female   \n",
       "\n",
       "0 past_3_years_bike_related_purchases                  DOB  \\\n",
       "0                                  93  1953-10-12 00:00:00   \n",
       "1                                  81  1980-12-16 00:00:00   \n",
       "2                                  61  1954-01-20 00:00:00   \n",
       "3                                  33  1961-10-03 00:00:00   \n",
       "4                                  56  1977-05-13 00:00:00   \n",
       "\n",
       "0               job_title job_industry_category     wealth_segment  \\\n",
       "0     Executive Secretary                Health      Mass Customer   \n",
       "1  Administrative Officer    Financial Services      Mass Customer   \n",
       "2      Recruiting Manager              Property      Mass Customer   \n",
       "3                     NaN                    IT      Mass Customer   \n",
       "4           Senior Editor                   NaN  Affluent Customer   \n",
       "\n",
       "0 deceased_indicator                                            default  \\\n",
       "0                  N                                                 \"'   \n",
       "1                  N                       <script>alert('hi')</script>   \n",
       "2                  N                                2018-02-01 00:00:00   \n",
       "3                  N  () { _; } >_[$($())] { touch /tmp/blns.shellsh...   \n",
       "4                  N                                                NIL   \n",
       "\n",
       "0 owns_car tenure  \n",
       "0      Yes     11  \n",
       "1      Yes     16  \n",
       "2      Yes     15  \n",
       "3       No      7  \n",
       "4      Yes      8  "
      ]
     },
     "execution_count": 21,
     "metadata": {},
     "output_type": "execute_result"
    }
   ],
   "source": [
    "# show demographic data\n",
    "demographic_df.head()\n"
   ]
  },
  {
   "cell_type": "code",
   "execution_count": 22,
   "id": "215036c8",
   "metadata": {},
   "outputs": [
    {
     "data": {
      "text/plain": [
       "0\n",
       "customer_id                            object\n",
       "first_name                             object\n",
       "last_name                              object\n",
       "gender                                 object\n",
       "past_3_years_bike_related_purchases    object\n",
       "DOB                                    object\n",
       "job_title                              object\n",
       "job_industry_category                  object\n",
       "wealth_segment                         object\n",
       "deceased_indicator                     object\n",
       "default                                object\n",
       "owns_car                               object\n",
       "tenure                                 object\n",
       "dtype: object"
      ]
     },
     "execution_count": 22,
     "metadata": {},
     "output_type": "execute_result"
    }
   ],
   "source": [
    "# correct values (accuracy)\n",
    "demographic_df.dtypes\n"
   ]
  },
  {
   "cell_type": "markdown",
   "id": "d63649d8",
   "metadata": {},
   "source": [
    "##### Evaluation: Some data types should be converted from object to a different data type."
   ]
  },
  {
   "cell_type": "code",
   "execution_count": 23,
   "id": "df606f32",
   "metadata": {},
   "outputs": [
    {
     "data": {
      "text/plain": [
       "0\n",
       "customer_id                            4000\n",
       "first_name                             4000\n",
       "last_name                              3875\n",
       "gender                                 4000\n",
       "past_3_years_bike_related_purchases    4000\n",
       "DOB                                    3913\n",
       "job_title                              3494\n",
       "job_industry_category                  3344\n",
       "wealth_segment                         4000\n",
       "deceased_indicator                     4000\n",
       "default                                3698\n",
       "owns_car                               4000\n",
       "tenure                                 3913\n",
       "dtype: int64"
      ]
     },
     "execution_count": 23,
     "metadata": {},
     "output_type": "execute_result"
    }
   ],
   "source": [
    "# data fields with values (completeness)\n",
    "demographic_df.count()\n"
   ]
  },
  {
   "cell_type": "markdown",
   "id": "000c2c84",
   "metadata": {},
   "source": [
    "##### Evaluation: Some columns (last_name, DOB, job_title, job_industry_category, default, tenure) are missing values."
   ]
  },
  {
   "cell_type": "code",
   "execution_count": 29,
   "id": "faf28772",
   "metadata": {},
   "outputs": [
    {
     "data": {
      "text/plain": [
       "Index(['customer_id', 'first_name', 'last_name', 'gender',\n",
       "       'past_3_years_bike_related_purchases', 'DOB', 'job_title',\n",
       "       'job_industry_category', 'wealth_segment', 'deceased_indicator',\n",
       "       'default', 'owns_car', 'tenure'],\n",
       "      dtype='object', name=0)"
      ]
     },
     "execution_count": 29,
     "metadata": {},
     "output_type": "execute_result"
    }
   ],
   "source": [
    "# look for date column\n",
    "demographic_df.columns"
   ]
  },
  {
   "cell_type": "markdown",
   "id": "b89652ce",
   "metadata": {},
   "source": [
    "##### Evaluation: There is no date column - outside of DOB - in this table to evaluate whether or not the data across all 3 tables is from the same time period."
   ]
  },
  {
   "cell_type": "markdown",
   "id": "42cd8c8e",
   "metadata": {},
   "source": [
    "## Address"
   ]
  },
  {
   "cell_type": "code",
   "execution_count": 24,
   "id": "30de2ff6",
   "metadata": {},
   "outputs": [
    {
     "data": {
      "text/html": [
       "<div>\n",
       "<style scoped>\n",
       "    .dataframe tbody tr th:only-of-type {\n",
       "        vertical-align: middle;\n",
       "    }\n",
       "\n",
       "    .dataframe tbody tr th {\n",
       "        vertical-align: top;\n",
       "    }\n",
       "\n",
       "    .dataframe thead th {\n",
       "        text-align: right;\n",
       "    }\n",
       "</style>\n",
       "<table border=\"1\" class=\"dataframe\">\n",
       "  <thead>\n",
       "    <tr style=\"text-align: right;\">\n",
       "      <th></th>\n",
       "      <th>customer_id</th>\n",
       "      <th>address</th>\n",
       "      <th>postcode</th>\n",
       "      <th>state</th>\n",
       "      <th>country</th>\n",
       "      <th>property_valuation</th>\n",
       "    </tr>\n",
       "  </thead>\n",
       "  <tbody>\n",
       "    <tr>\n",
       "      <th>0</th>\n",
       "      <td>1</td>\n",
       "      <td>060 Morning Avenue</td>\n",
       "      <td>2016</td>\n",
       "      <td>New South Wales</td>\n",
       "      <td>Australia</td>\n",
       "      <td>10</td>\n",
       "    </tr>\n",
       "    <tr>\n",
       "      <th>1</th>\n",
       "      <td>2</td>\n",
       "      <td>6 Meadow Vale Court</td>\n",
       "      <td>2153</td>\n",
       "      <td>New South Wales</td>\n",
       "      <td>Australia</td>\n",
       "      <td>10</td>\n",
       "    </tr>\n",
       "    <tr>\n",
       "      <th>2</th>\n",
       "      <td>4</td>\n",
       "      <td>0 Holy Cross Court</td>\n",
       "      <td>4211</td>\n",
       "      <td>QLD</td>\n",
       "      <td>Australia</td>\n",
       "      <td>9</td>\n",
       "    </tr>\n",
       "    <tr>\n",
       "      <th>3</th>\n",
       "      <td>5</td>\n",
       "      <td>17979 Del Mar Point</td>\n",
       "      <td>2448</td>\n",
       "      <td>New South Wales</td>\n",
       "      <td>Australia</td>\n",
       "      <td>4</td>\n",
       "    </tr>\n",
       "    <tr>\n",
       "      <th>4</th>\n",
       "      <td>6</td>\n",
       "      <td>9 Oakridge Court</td>\n",
       "      <td>3216</td>\n",
       "      <td>VIC</td>\n",
       "      <td>Australia</td>\n",
       "      <td>9</td>\n",
       "    </tr>\n",
       "  </tbody>\n",
       "</table>\n",
       "</div>"
      ],
      "text/plain": [
       "0 customer_id              address postcode            state    country  \\\n",
       "0           1   060 Morning Avenue     2016  New South Wales  Australia   \n",
       "1           2  6 Meadow Vale Court     2153  New South Wales  Australia   \n",
       "2           4   0 Holy Cross Court     4211              QLD  Australia   \n",
       "3           5  17979 Del Mar Point     2448  New South Wales  Australia   \n",
       "4           6     9 Oakridge Court     3216              VIC  Australia   \n",
       "\n",
       "0 property_valuation  \n",
       "0                 10  \n",
       "1                 10  \n",
       "2                  9  \n",
       "3                  4  \n",
       "4                  9  "
      ]
     },
     "execution_count": 24,
     "metadata": {},
     "output_type": "execute_result"
    }
   ],
   "source": [
    "# show address data\n",
    "address_df.head()\n"
   ]
  },
  {
   "cell_type": "code",
   "execution_count": 25,
   "id": "df69f7f6",
   "metadata": {},
   "outputs": [
    {
     "data": {
      "text/plain": [
       "0\n",
       "customer_id           object\n",
       "address               object\n",
       "postcode              object\n",
       "state                 object\n",
       "country               object\n",
       "property_valuation    object\n",
       "dtype: object"
      ]
     },
     "execution_count": 25,
     "metadata": {},
     "output_type": "execute_result"
    }
   ],
   "source": [
    "# correct values (accuracy)\n",
    "address_df.dtypes\n"
   ]
  },
  {
   "cell_type": "markdown",
   "id": "85ee6d16",
   "metadata": {},
   "source": [
    "##### Evaluation: Some data types should be converted from object to a different data type."
   ]
  },
  {
   "cell_type": "code",
   "execution_count": 26,
   "id": "b32d8917",
   "metadata": {},
   "outputs": [
    {
     "data": {
      "text/plain": [
       "0\n",
       "customer_id           3999\n",
       "address               3999\n",
       "postcode              3999\n",
       "state                 3999\n",
       "country               3999\n",
       "property_valuation    3999\n",
       "dtype: int64"
      ]
     },
     "execution_count": 26,
     "metadata": {},
     "output_type": "execute_result"
    }
   ],
   "source": [
    "# data fields with values (completeness)\n",
    "address_df.count()\n"
   ]
  },
  {
   "cell_type": "markdown",
   "id": "2ed0d8ab",
   "metadata": {},
   "source": [
    "##### Evaluation: No column has an unequal value to another how ever there should be at least one more row added to this table to match the number of unique customer_id values as the demographic table."
   ]
  },
  {
   "cell_type": "code",
   "execution_count": 28,
   "id": "fb778558",
   "metadata": {},
   "outputs": [
    {
     "data": {
      "text/plain": [
       "Index(['customer_id', 'address', 'postcode', 'state', 'country',\n",
       "       'property_valuation'],\n",
       "      dtype='object', name=0)"
      ]
     },
     "execution_count": 28,
     "metadata": {},
     "output_type": "execute_result"
    }
   ],
   "source": [
    "# look for date column\n",
    "address_df.columns\n"
   ]
  },
  {
   "cell_type": "markdown",
   "id": "0bca920f",
   "metadata": {},
   "source": [
    "##### Evaluation: There is no date column in this table to evaluate whether or not the data across all 3 tables is from the same time period."
   ]
  },
  {
   "cell_type": "markdown",
   "id": "ee923984",
   "metadata": {},
   "source": [
    "## Evaluating all 3 tables against each other"
   ]
  },
  {
   "cell_type": "code",
   "execution_count": 27,
   "id": "e72f81f2",
   "metadata": {},
   "outputs": [
    {
     "name": "stdout",
     "output_type": "stream",
     "text": [
      "Number of Unique Values\n",
      "--------------------------------------\n",
      "Unique Customer ID (transactions): 3494\n",
      "Unique Customer ID (demographic): 4000\n",
      "Unique Customer ID (address): 3999\n"
     ]
    }
   ],
   "source": [
    "# records that are duplicated (uniqueness)\n",
    "# evaluation: no duplicates, however address_df is missing a customer_id\n",
    "\n",
    "# column titles\n",
    "transactions_df.columns\n",
    "demographic_df.columns\n",
    "address_df.columns\n",
    "\n",
    "print(f\"Number of Unique Values\")\n",
    "print(\"--------------------------------------\")\n",
    "# finding unique values\n",
    "t_customer_id = len(transactions_df[\"customer_id\"].unique())\n",
    "print(f\"Unique Customer ID (transactions): {t_customer_id}\")\n",
    "\n",
    "d_customer_id = len(demographic_df[\"customer_id\"].unique())\n",
    "print(f\"Unique Customer ID (demographic): {d_customer_id}\")\n",
    "\n",
    "a_customer_id = len(address_df[\"customer_id\"].unique())\n",
    "print(f\"Unique Customer ID (address): {a_customer_id}\")\n"
   ]
  },
  {
   "cell_type": "markdown",
   "id": "f603be37",
   "metadata": {},
   "source": [
    "##### Evaluation: The number of unique customer_id values does not match for any table. It can be assumed that there should be 4000, as shown in the demographic table. Meaning, more data needs to be entered/taken to the transactions and address table."
   ]
  },
  {
   "cell_type": "code",
   "execution_count": null,
   "id": "3f9bfbab",
   "metadata": {},
   "outputs": [],
   "source": []
  }
 ],
 "metadata": {
  "kernelspec": {
   "display_name": "Python 3 (ipykernel)",
   "language": "python",
   "name": "python3"
  },
  "language_info": {
   "codemirror_mode": {
    "name": "ipython",
    "version": 3
   },
   "file_extension": ".py",
   "mimetype": "text/x-python",
   "name": "python",
   "nbconvert_exporter": "python",
   "pygments_lexer": "ipython3",
   "version": "3.9.12"
  }
 },
 "nbformat": 4,
 "nbformat_minor": 5
}
